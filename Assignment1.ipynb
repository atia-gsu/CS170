{
 "cells": [
  {
   "cell_type": "markdown",
   "id": "ef9f5d28-2917-4355-a9ab-6da7a5d5dd36",
   "metadata": {},
   "source": [
    "# My First Python Coding Assignment"
   ]
  },
  {
   "cell_type": "code",
   "execution_count": 5,
   "id": "31e2c823-920d-4a4a-83f7-ba532828c144",
   "metadata": {},
   "outputs": [
    {
     "name": "stdout",
     "output_type": "stream",
     "text": [
      "How to declare variable and work on it in Python:\n",
      "15\n"
     ]
    }
   ],
   "source": [
    "print('How to declare variable and work on it in Python:')\n",
    "x=10\n",
    "y=5\n",
    "z=x+y\n",
    "print(z)"
   ]
  },
  {
   "cell_type": "code",
   "execution_count": null,
   "id": "8721e810-0373-4247-a226-67ce16aef313",
   "metadata": {},
   "outputs": [],
   "source": []
  }
 ],
 "metadata": {
  "kernelspec": {
   "display_name": "Python [conda env:base] *",
   "language": "python",
   "name": "conda-base-py"
  },
  "language_info": {
   "codemirror_mode": {
    "name": "ipython",
    "version": 3
   },
   "file_extension": ".py",
   "mimetype": "text/x-python",
   "name": "python",
   "nbconvert_exporter": "python",
   "pygments_lexer": "ipython3",
   "version": "3.13.5"
  }
 },
 "nbformat": 4,
 "nbformat_minor": 5
}
